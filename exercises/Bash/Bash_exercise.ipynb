{
 "cells": [
  {
   "cell_type": "markdown",
   "metadata": {},
   "source": [
    "# Bash for Bioinformatics"
   ]
  },
  {
   "cell_type": "markdown",
   "metadata": {},
   "source": [
    "A scripting language is a programmable language that supports scripts, namely programs written for a special run-time environment that automate the execution of tasks that could alternatively be executed one-by-one by a human operator.\n",
    "<br>\n",
    "__Bash__ is the most common Unix textual shell that also provide a bash programming language.\n",
    "<br>\n",
    "In this course, the student will learn how to __automate extensive computational tasks__ (i.e. running programs, dealing with their outputs and making pipelines), \n",
    "and the concept of __batch processing__, namely the execution of a series of jobs in a program on a computer without manual intervention\n",
    "<br>\n",
    "Bash scripts will be used in order to build (bioinformatics) pipelines that transform raw data, execute programs, and present results.\n",
    "<br>\n",
    "The focus is given to real applications in the fields of bioinformatics for what concern the analysis do the input data and the performance valuation of computational tools.\n"
   ]
  },
  {
   "cell_type": "markdown",
   "metadata": {},
   "source": [
    "# Exercises\n",
    "\n",
    "## Exercise 1\n",
    "1. Create a script to download the gff3 file of _mycoplasma genitalium_ from ftp://ftp.ensemblgenomes.org/pub/bacteria/release-45/gff3/bacteria_13_collection/mycoplasma_genitalium_g37 such that no multiple copies of the file are made. \n",
    " - the gff3 file must be saved as `myco.gff3`\n",
    " - Suggested tools: `wget`, `if [ -f file ]`, `gunzip`"
   ]
  },
  {
   "cell_type": "markdown",
   "metadata": {},
   "source": [
    "<hr>\n",
    "\n",
    "## Excericise 2\n",
    "2. From the file `myco.gff3`: \n",
    " 1. count how many chromosomes are reported inside the file\n",
    " 2. count how many genes are in the list\n",
    " 3. give the non redundant list of sources of the reported features\n",
    " 4. which feature types are reported in the file, and for each of them how many feature are reported\n",
    " 5. list gene symbols (Name) without duplicates\n",
    " 6. count how many genes do not have a name\n",
    " \n",
    "The queries must be done in one single line, when it is possible.\n",
    "<br>\n",
    "Suggested tools: `grep`, `wc`, `sort`, `uniq`, `sed`"
   ]
  },
  {
   "cell_type": "markdown",
   "metadata": {},
   "source": [
    "<hr>\n",
    "\n",
    "## Excercies 3\n",
    "\n",
    "Download the human annotation file at this link: ftp://ftp.ensembl.org/pub/release-98/gff3/homo_sapiens/Homo_sapiens.GRCh38.98.gff3.gz\n",
    "<br>\n",
    "and rename it as grch38.gff3.\n",
    "<br>\n",
    "Answer to the same questions of excercise 2, then make the same statistics but only for features on the chromsome 1.\n",
    "<br>\n",
    "Suggested tools: `grep`, `wc -l`, `mktemp`, `sort`, `uniq`, `sed`"
   ]
  },
  {
   "cell_type": "markdown",
   "metadata": {},
   "source": [
    "<hr>\n",
    "\n",
    "## Excercise 4\n",
    "Construct a series of files,one for each chromosome (by discarding scaffolds) and make them as valid GFF3 files. The files must be saved into a folder named \"GRCH38\"."
   ]
  },
  {
   "cell_type": "markdown",
   "metadata": {},
   "source": [
    "<hr>\n",
    "\n",
    "## Excercise 5\n",
    "Make a csv file that reports the statistics of excercise 2 for each chromosome. Every statistic must be reported as number of elements, not as a list of elements."
   ]
  },
  {
   "cell_type": "markdown",
   "metadata": {},
   "source": [
    "<hr>\n",
    "\n",
    "## Excercise 6\n",
    "The file `families.fa` in the `data` folder contains the aminoacidic sequences of genes belonging to different genomes. \n",
    "Each sequence is composed by a description line, which starts with a character `>` and contains three fields separeted by a tabulation character. \n",
    "The first field is the name of the genome, the second one is a unique gene identifier, and the third field report the family to which the gene belongs.\n",
    "Subsequently, the aminoacidic sequence of the gene is reported by splitting it into multiple lines that are no longer than 80 characters.\n",
    "\n",
    "Answer to the following questions:\n",
    "1. how many genomes are reported in the file?\n",
    "2. how many genes are reported in the file?\n",
    "3. how many genes each genome has?\n",
    "4. how many genes each family has?\n",
    "5. which is the average length of the aminoacidic sequences? Is there any difference betwen using `bc` and the standard numerical environment?\n",
    "6. make a distrubution of the gene length. For each length, report how many genes have such a length."
   ]
  }
 ],
 "metadata": {
  "kernelspec": {
   "display_name": "Bash",
   "language": "bash",
   "name": "bash"
  },
  "language_info": {
   "codemirror_mode": "shell",
   "file_extension": ".sh",
   "mimetype": "text/x-sh",
   "name": "bash"
  }
 },
 "nbformat": 4,
 "nbformat_minor": 4
}
